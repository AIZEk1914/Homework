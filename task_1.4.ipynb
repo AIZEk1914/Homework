{
 "cells": [
  {
   "cell_type": "code",
   "execution_count": 4,
   "metadata": {},
   "outputs": [
    {
     "name": "stdout",
     "output_type": "stream",
     "text": [
      "Кроссовки тип 3 (Adidas) - 31 шт., стоимость 50747\n",
      "Мячик тип 2 (Adidas) - 14 шт., стоимость 660\n",
      "Кепка тип 1 (Adidas) - 60 шт., стоимость 17124\n",
      "Ремень тип 2 (Nike) - 9 шт., стоимость 1930\n",
      "Футболка тип 1 (Adidas) - 134 шт., стоимость 54264\n",
      "Шапка тип 5 (Puma) - 26 шт., стоимость 4550\n"
     ]
    }
   ],
   "source": [
    "titles = {\n",
    "    'Кроссовки тип 3 (Adidas)': '100000110',\n",
    "    'Мячик тип 2 (Adidas)': '100000146',\n",
    "    'Кепка тип 1 (Adidas)': '100000149',\n",
    "    'Ремень тип 2 (Nike)': '100000194',\n",
    "    'Футболка тип 1 (Adidas)': '100000224',\n",
    "    'Шапка тип 5 (Puma)': '100000280',\n",
    "}\n",
    "\n",
    "store = {\n",
    "    '100000110': [{'quantity': 31, 'price': 1637}],\n",
    "    '100000146': [ {'quantity': 4, 'price': 45}, {'quantity': 10, 'price': 48}],\n",
    "    '100000149': [ {'quantity': 28, 'price': 279}, {'quantity': 32, 'price': 291}],\n",
    "    '100000194': [{'quantity': 8, 'price': 220}, {'quantity': 1, 'price': 170}],\n",
    "    '100000224': [{'quantity': 61, 'price': 438}, {'quantity': 23, 'price': 302},  {'quantity': 50, 'price': 412}],\n",
    "    '100000280': [{'quantity': 26, 'price': 175}, ]\n",
    "}\n",
    "for i in titles:\n",
    "    s = 0\n",
    "    k = 0\n",
    "    for j in store[titles[i]]:\n",
    "        s += j[\"quantity\"] * j[\"price\"]\n",
    "        k += j['quantity']\n",
    "    print(i, \"-\", k, \"шт., стоимость\", s)"
   ]
  }
 ],
 "metadata": {
  "kernelspec": {
   "display_name": "Python 3",
   "language": "python",
   "name": "python3"
  },
  "language_info": {
   "codemirror_mode": {
    "name": "ipython",
    "version": 3
   },
   "file_extension": ".py",
   "mimetype": "text/x-python",
   "name": "python",
   "nbconvert_exporter": "python",
   "pygments_lexer": "ipython3",
   "version": "3.11.2"
  },
  "orig_nbformat": 4
 },
 "nbformat": 4,
 "nbformat_minor": 2
}
