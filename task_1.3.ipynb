{
 "cells": [
  {
   "cell_type": "code",
   "execution_count": 18,
   "metadata": {},
   "outputs": [
    {
     "name": "stdout",
     "output_type": "stream",
     "text": [
      "Выввели Сентябрь. 30 дней\n"
     ]
    }
   ],
   "source": [
    "x =  int(input ('Введите номер месяца: '))\n",
    "if x == 1:\n",
    "    print ('Выввели Январь. 31 дней')\n",
    "elif x == 2:\n",
    "    print ('Выввели Февраль. 28 дней')\n",
    "elif x == 3:\n",
    "    print ('Выввели Март. 31 дней')\n",
    "elif x == 4:\n",
    "    print ('Выввели Апрель. 30 дней')\n",
    "elif x == 5:\n",
    "    print ('Выввели Май. 31 дней')\n",
    "elif x == 6:\n",
    "    print ('Выввели Июнь. 30 дней')\n",
    "elif x == 7:\n",
    "    print ('Выввели Июль. 31 дней')\n",
    "elif x == 8:\n",
    "    print ('Выввели Август. 31 дней')\n",
    "elif x == 9:\n",
    "    print ('Выввели Сентябрь. 30 дней')\n",
    "elif x == 10:\n",
    "    print ('Выввели Октябрь. 31 дней')\n",
    "elif x == 11:\n",
    "    print ('Выввели Ноябрь. 30 дней')\n",
    "elif x == 12:\n",
    "    print ('Выввели Декабрь. 31 дней')\n",
    "else:\n",
    "    print ('Такого месяца нет!')\n",
    "\n",
    "\n",
    "\n",
    "\n"
   ]
  }
 ],
 "metadata": {
  "kernelspec": {
   "display_name": "Python 3",
   "language": "python",
   "name": "python3"
  },
  "language_info": {
   "codemirror_mode": {
    "name": "ipython",
    "version": 3
   },
   "file_extension": ".py",
   "mimetype": "text/x-python",
   "name": "python",
   "nbconvert_exporter": "python",
   "pygments_lexer": "ipython3",
   "version": "3.11.2"
  },
  "orig_nbformat": 4
 },
 "nbformat": 4,
 "nbformat_minor": 2
}
